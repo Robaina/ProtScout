{
 "cells": [
  {
   "cell_type": "code",
   "execution_count": 12,
   "id": "da1e8bfa-2bcc-41d6-b12d-72494a275e56",
   "metadata": {
    "tags": []
   },
   "outputs": [
    {
     "name": "stdout",
     "output_type": "stream",
     "text": [
      "Found existing installation: protscout 0.1.0\n",
      "Uninstalling protscout-0.1.0:\n",
      "  Successfully uninstalled protscout-0.1.0\n",
      "Building \u001b[36mprotscout\u001b[39m (\u001b[39;1m0.1.0\u001b[39;22m)\n",
      "Building \u001b[34msdist\u001b[39m\n",
      "  - Building \u001b[34msdist\u001b[39m\n",
      "  - Built \u001b[32mprotscout-0.1.0.tar.gz\u001b[39m\n",
      "Building \u001b[34mwheel\u001b[39m\n",
      "  - Building \u001b[34mwheel\u001b[39m\n",
      "  - Built \u001b[32mprotscout-0.1.0-py3-none-any.whl\u001b[39m\n"
     ]
    }
   ],
   "source": [
    "!cd .. && pip uninstall -y protscout && poetry build && pip install -q dist/protscout-0.1.0-py3-none-any.whl"
   ]
  },
  {
   "cell_type": "code",
   "execution_count": 5,
   "id": "93491fea-167e-45a7-8cff-77e680aef3d4",
   "metadata": {
    "tags": []
   },
   "outputs": [],
   "source": [
    "import os\n",
    "import glob\n",
    "from pathlib import Path\n",
    "from protscout.predictor_helpers import read_fasta_to_dict\n",
    "\n",
    "# Base directory structure\n",
    "BASE_DIR = Path(\"/home/ec2-user/SageMaker/ProtScout\")\n",
    "FEATURE_DIR = BASE_DIR / \"outputs/geopoc/features\"\n",
    "OUTPUT_DIR = BASE_DIR / \"outputs/geopoc\"\n",
    "\n",
    "FASTA_PATH = \"/home/ec2-user/SageMaker/mangrove-plastic-degrading/data/protein_sequences_plastic_degrading_representatives/PET.faa\"\n",
    "PDB_DIR = \"/home/ec2-user/SageMaker/mangrove-plastic-degrading/outputs/structures/PET\"\n",
    "\n",
    "# Create directories if they don't exist\n",
    "for dir_path in [FEATURE_DIR, OUTPUT_DIR]:\n",
    "    dir_path.mkdir(parents=True, exist_ok=True)\n",
    "\n",
    "# Real sequences for testing\n",
    "sequence_dict = read_fasta_to_dict(FASTA_PATH)\n",
    "sequence_ids, sequences = list(sequence_dict.keys()), list(sequence_dict.values())\n",
    "pdb_files = {\n",
    "    os.path.splitext(os.path.basename(filepath))[0]: filepath \n",
    "    for filepath in glob.glob(os.path.join(PDB_DIR, \"*.pdb\"))\n",
    "    if os.path.splitext(os.path.basename(filepath))[0] in sequence_ids\n",
    "}\n",
    "\n",
    "sequence_ids"
   ]
  },
  {
   "cell_type": "markdown",
   "id": "3155132d-288c-4177-8997-c568358722a9",
   "metadata": {},
   "source": [
    "## Predict Optimal Temperature"
   ]
  },
  {
   "cell_type": "code",
   "execution_count": 6,
   "id": "74418721-70df-46ae-9f94-c6a1ffc112b1",
   "metadata": {
    "tags": []
   },
   "outputs": [
    {
     "name": "stdout",
     "output_type": "stream",
     "text": [
      "Temperature predictions: tensor([[31.2698],\n",
      "        [25.5224],\n",
      "        [25.8323],\n",
      "        [25.9285],\n",
      "        [25.1254],\n",
      "        [27.3422],\n",
      "        [26.1657],\n",
      "        [26.6567],\n",
      "        [31.9171],\n",
      "        [28.0328]])\n"
     ]
    }
   ],
   "source": [
    "# Initialize GeoPoc predictors for temperature and pH\n",
    "from protscout.predictors import GeoPocPredictor\n",
    "\n",
    "# Initialize predictor for temperature predictions\n",
    "temp_predictor = GeoPocPredictor(\n",
    "    task=\"temp\",\n",
    "    device=\"cuda\",\n",
    "    save_directory=str(OUTPUT_DIR),\n",
    "    parent_temp_dir=\"/home/ec2-user/SageMaker/ProtScout/outputs/tmp/geopoc\",\n",
    "    docker_image=\"ghcr.io/new-atlantis-labs/geopoc:latest\",\n",
    "    model_weights_dir=\"/home/ec2-user/SageMaker/models\",\n",
    ")\n",
    "\n",
    "# Get temperature predictions\n",
    "temp_predictions = temp_predictor.infer_fitness(\n",
    "    sequences=[seq for seq in sequence_dict.values()],\n",
    "    pdb_files=[pdb_files[seqid] for seqid in sequence_dict],\n",
    "    generation_id=\"001\"\n",
    ")\n",
    "\n",
    "print(\"Temperature predictions:\", temp_predictions)"
   ]
  },
  {
   "cell_type": "markdown",
   "id": "a32c2871-00a0-4fd5-84cf-f8d7ee985b49",
   "metadata": {},
   "source": [
    "## Classify Optimal pH"
   ]
  },
  {
   "cell_type": "code",
   "execution_count": 7,
   "id": "839ddb58-f26b-4a70-845e-83b1a06e5816",
   "metadata": {
    "tags": []
   },
   "outputs": [
    {
     "name": "stdout",
     "output_type": "stream",
     "text": [
      "pH predictions: tensor([[ 7.0000],\n",
      "        [11.5000],\n",
      "        [ 7.0000],\n",
      "        [ 7.0000],\n",
      "        [ 7.0000],\n",
      "        [ 7.0000],\n",
      "        [ 7.0000],\n",
      "        [ 7.0000],\n",
      "        [11.5000],\n",
      "        [ 7.0000]])\n"
     ]
    }
   ],
   "source": [
    "# Initialize predictor for pH predictions\n",
    "ph_predictor = GeoPocPredictor(\n",
    "    task=\"pH\",\n",
    "    device=\"cuda\",\n",
    "    save_directory=str(OUTPUT_DIR),\n",
    "    parent_temp_dir=\"/home/ec2-user/SageMaker/ProtScout/outputs/tmp/geopoc\",\n",
    "    docker_image=\"ghcr.io/new-atlantis-labs/geopoc:latest\",\n",
    "    model_weights_dir=\"/home/ec2-user/SageMaker/models\",\n",
    ")\n",
    "\n",
    "# Get pH predictions\n",
    "ph_predictions = ph_predictor.infer_fitness(\n",
    "    sequences=[seq for seq in sequence_dict.values()],\n",
    "    pdb_files=[pdb_files[seqid] for seqid in sequence_dict],\n",
    "    generation_id=\"001\"\n",
    ")\n",
    "\n",
    "print(\"pH predictions:\", ph_predictions)"
   ]
  },
  {
   "cell_type": "markdown",
   "id": "849d2250-03ce-43e3-a4fa-ab58c9e4a20b",
   "metadata": {},
   "source": [
    "## Classify Optimal Salt Concentration"
   ]
  },
  {
   "cell_type": "code",
   "execution_count": 8,
   "id": "dd8f5eba-667a-41ab-914f-977c0bf4bf66",
   "metadata": {
    "tags": []
   },
   "outputs": [
    {
     "name": "stdout",
     "output_type": "stream",
     "text": [
      "Salt concentration predictions: tensor([[5.0000],\n",
      "        [5.0000],\n",
      "        [5.0000],\n",
      "        [2.0250],\n",
      "        [5.0000],\n",
      "        [5.0000],\n",
      "        [5.0000],\n",
      "        [2.0250],\n",
      "        [5.0000],\n",
      "        [5.0000]])\n"
     ]
    }
   ],
   "source": [
    "# Initialize predictor for salt concentration predictions\n",
    "salt_predictor = GeoPocPredictor(\n",
    "    task=\"salt\",\n",
    "    device=\"cuda\",\n",
    "    save_directory=str(OUTPUT_DIR),\n",
    "    parent_temp_dir=\"/home/ec2-user/SageMaker/ProtScout/outputs/tmp/geopoc\",\n",
    "    docker_image=\"ghcr.io/new-atlantis-labs/geopoc:latest\",\n",
    "    model_weights_dir=\"/home/ec2-user/SageMaker/models\",\n",
    ")\n",
    "\n",
    "# Get salt concentration predictions\n",
    "salt_predictions = salt_predictor.infer_fitness(\n",
    "    sequences=[seq for seq in sequence_dict.values()],\n",
    "    pdb_files=[pdb_files[seqid] for seqid in sequence_dict],\n",
    "    generation_id=\"001\"\n",
    ")\n",
    "\n",
    "print(\"Salt concentration predictions:\", salt_predictions)"
   ]
  }
 ],
 "metadata": {
  "kernelspec": {
   "display_name": "conda_python3",
   "language": "python",
   "name": "conda_python3"
  },
  "language_info": {
   "codemirror_mode": {
    "name": "ipython",
    "version": 3
   },
   "file_extension": ".py",
   "mimetype": "text/x-python",
   "name": "python",
   "nbconvert_exporter": "python",
   "pygments_lexer": "ipython3",
   "version": "3.10.16"
  }
 },
 "nbformat": 4,
 "nbformat_minor": 5
}
