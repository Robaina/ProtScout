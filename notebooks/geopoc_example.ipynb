{
 "cells": [
  {
   "cell_type": "code",
   "execution_count": null,
   "id": "93491fea-167e-45a7-8cff-77e680aef3d4",
   "metadata": {
    "tags": []
   },
   "outputs": [],
   "source": [
    "# First, let's set up our base directories and sample data\n",
    "import os\n",
    "from pathlib import Path\n",
    "\n",
    "# Base directory structure\n",
    "workdir = \"/home/ec2-user/SageMaker/Proteus/notebooks\"\n",
    "BASE_DIR = Path(workdir)\n",
    "FEATURE_DIR = BASE_DIR / \"features\"\n",
    "OUTPUT_DIR = BASE_DIR / \"outputs/geopoc\"\n",
    "PDB_DIR = BASE_DIR / \"data/catsol_pdbs\"\n",
    "\n",
    "# Create directories if they don't exist\n",
    "for dir_path in [FEATURE_DIR, OUTPUT_DIR]:\n",
    "    dir_path.mkdir(parents=True, exist_ok=True)\n",
    "\n",
    "# Real sequences for testing\n",
    "sequences = [\n",
    "    'MTKEEGRTYFESLCEEEQSLQESQTHLLNILDILSVLADPRSSDDLLTESLKKLPDLHRELINSSIRLRYDKYQTREAQLLEDTKTGRDVAAGVQNPKSISEYYSTFEHLNRDTLRYINLLKRLSVDLAKQVEVSDPSVTVYEMDKWVPSEKLQGILEQYCAPDTDIRGVDAQIKNYLDQIKMARAKFGLENKYSLKERLSTLTKELNHWRKEWDDIEMLMFGDDAHSMKKMIQKIDSLKSEINAPSESYPVDKEGDIVLE',\n",
    "    'MGNIMSASFAPECTDLKTKYDSCFNEWYSEKFLKGKSVENECSKQWYAYTTCVNAALVKQGIKPALDEAREEAPFENGGKLKEVDK'\n",
    "]\n",
    "\n",
    "sequence_ids = ['seq1', 'seq2']"
   ]
  },
  {
   "cell_type": "markdown",
   "id": "3155132d-288c-4177-8997-c568358722a9",
   "metadata": {},
   "source": [
    "## Predict Optimal Temperature"
   ]
  },
  {
   "cell_type": "code",
   "execution_count": null,
   "id": "74418721-70df-46ae-9f94-c6a1ffc112b1",
   "metadata": {
    "tags": []
   },
   "outputs": [
    {
     "name": "stdout",
     "output_type": "stream",
     "text": [
      "Temperature predictions: tensor([[33.2223],\n",
      "        [17.3567]])\n"
     ]
    }
   ],
   "source": [
    "# Initialize GeoPoc predictors for temperature and pH\n",
    "from proteus.fitness_predictors import GeoPocPredictor\n",
    "\n",
    "# Initialize predictor for temperature predictions\n",
    "temp_predictor = GeoPocPredictor(\n",
    "    task=\"temp\",\n",
    "    device=\"cpu\",\n",
    "    save_directory=str(OUTPUT_DIR),\n",
    "    pdb_dir=str(PDB_DIR),\n",
    "    parent_temp_dir=\"/home/ec2-user/SageMaker/Protscout/notebooks/tmp/geopoc\",\n",
    "    docker_image=\"ghcr.io/new-atlantis-labs/geopoc:latest\"\n",
    ")\n",
    "\n",
    "# Get temperature predictions\n",
    "temp_predictions = temp_predictor.infer_fitness(\n",
    "    sequences=sequences,\n",
    "    sequence_ids=sequence_ids,\n",
    "    generation_id=\"001\"\n",
    ")\n",
    "\n",
    "print(\"Temperature predictions:\", temp_predictions)"
   ]
  },
  {
   "cell_type": "markdown",
   "id": "a32c2871-00a0-4fd5-84cf-f8d7ee985b49",
   "metadata": {},
   "source": [
    "## Classify Optimal pH"
   ]
  },
  {
   "cell_type": "code",
   "execution_count": 3,
   "id": "839ddb58-f26b-4a70-845e-83b1a06e5816",
   "metadata": {
    "tags": []
   },
   "outputs": [
    {
     "name": "stdout",
     "output_type": "stream",
     "text": [
      "pH predictions: tensor([[7.],\n",
      "        [7.]])\n"
     ]
    }
   ],
   "source": [
    "# Initialize predictor for pH predictions\n",
    "ph_predictor = GeoPocPredictor(\n",
    "    task=\"pH\",\n",
    "    device=\"cuda\",\n",
    "    gpu_id=\"0\",\n",
    "    save_directory=str(OUTPUT_DIR),\n",
    "    pdb_dir=str(PDB_DIR),\n",
    "    docker_image=\"ghcr.io/new-atlantis-labs/geopoc:latest\"\n",
    ")\n",
    "\n",
    "# Get pH predictions\n",
    "ph_predictions = ph_predictor.infer_fitness(\n",
    "    sequences=sequences,\n",
    "    sequence_ids=sequence_ids,\n",
    "    generation_id=\"001\"\n",
    ")\n",
    "\n",
    "print(\"pH predictions:\", ph_predictions)"
   ]
  },
  {
   "cell_type": "markdown",
   "id": "849d2250-03ce-43e3-a4fa-ab58c9e4a20b",
   "metadata": {},
   "source": [
    "## Classify Optimal Salt Concentration"
   ]
  },
  {
   "cell_type": "code",
   "execution_count": 4,
   "id": "dd8f5eba-667a-41ab-914f-977c0bf4bf66",
   "metadata": {
    "tags": []
   },
   "outputs": [
    {
     "name": "stdout",
     "output_type": "stream",
     "text": [
      "Salt concentration predictions: tensor([[2.0250],\n",
      "        [5.0000]])\n"
     ]
    }
   ],
   "source": [
    "# Initialize predictor for salt concentration predictions\n",
    "salt_predictor = GeoPocPredictor(\n",
    "    task=\"salt\",\n",
    "    device=\"cuda\",\n",
    "    gpu_id=\"0\",\n",
    "    save_directory=str(OUTPUT_DIR),\n",
    "    pdb_dir=str(PDB_DIR),\n",
    "    docker_image=\"ghcr.io/new-atlantis-labs/geopoc:latest\"\n",
    ")\n",
    "\n",
    "# Get salt concentration predictions\n",
    "salt_predictions = salt_predictor.infer_fitness(\n",
    "    sequences=sequences,\n",
    "    sequence_ids=sequence_ids,\n",
    "    generation_id=\"001\"\n",
    ")\n",
    "\n",
    "print(\"Salt concentration predictions:\", salt_predictions)"
   ]
  }
 ],
 "metadata": {
  "kernelspec": {
   "display_name": "protscout",
   "language": "python",
   "name": "python3"
  },
  "language_info": {
   "codemirror_mode": {
    "name": "ipython",
    "version": 3
   },
   "file_extension": ".py",
   "mimetype": "text/x-python",
   "name": "python",
   "nbconvert_exporter": "python",
   "pygments_lexer": "ipython3",
   "version": "3.13.2"
  }
 },
 "nbformat": 4,
 "nbformat_minor": 5
}
