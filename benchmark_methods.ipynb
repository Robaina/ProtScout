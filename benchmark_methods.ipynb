{
 "cells": [
  {
   "cell_type": "markdown",
   "metadata": {},
   "source": [
    "# Benchmark property models\n",
    "\n",
    "Specifically, EpHod, TemBERTure vs GeoPoc"
   ]
  },
  {
   "cell_type": "code",
   "execution_count": 3,
   "metadata": {},
   "outputs": [
    {
     "data": {
      "text/plain": [
       "{'Q2YPV0': 'MTAIIDIVGREILDSRGNPTVEVDVVLEDGSFGRAAVPSGASTGAHEAVELRDGGSRYLGKGVEKAVEVVNGKIFDAIAGMDAESQLLIDQTLIDLDGSANKGNLGANAILGVSLAVAKAAAQASGLPLYRYVGGTNAHVLPVPMMNIINGGAHADNPIDFQEFMILPVGATSIREAVRYGSEVFHTLKKRLKDAGHNTNVGDEGGFAPNLKNAQAALDFIMESIEKAGFKPGEDIALGLDCAATEFFKDGNYVYEGERKTRDPKAQAKYLAKLASDYPIVTIEDGMAEDDWEGWKYLTDLIGNKCQLVGDDLFVTNSARLRDGIRLGVANSILVKVNQIGSLSETLDAVETAHKAGYTAVMSHRSGETEDSTIADLAVATNCGQIKTGSLARSDRTAKYNQLIRIEEELGKQARYAGRSALKLL',\n",
       " 'A0A142LT01': 'MRMDKNYMIAMHNPATIDHPNQPNEFVEFPVYTVLIDHPEGKILFDTACNPNSMGPEGRWGEFTQKAFPINMPEECYLHHRLEELNVRPEDIKYVVASHLHLDHAGCLELFTNATIIVQEDEFNGTLQTYARNVKDGAYVWGDIDMWIKNNLQWRLIKRGEDQVKLADGIQVLNFGSGHAWGMLGLHIQMPDTGGIILASDAIYTAESFGPPVKPPGIIYDSVGYNTTVERIRRLANETNSQVWFGHDPIQFKSFRKSTEGYYE',\n",
       " 'Q9LCC6': 'MNTDVRIEKDFLGEKEIPKDAYYGVQTIRATENFPITGYRIHPELIKSLGIVKKSAALANMEVGLLDKEVGQYIVKAADEVIEGKWNDQFIVDPIQGGAGTSINMNANEVIANRALELMGEEKGNYSKISPNSHVNMSQSTNDAFPTATHIAVLSLLNQLIETTKYMQQEFMKKADEFAGVIKMGRTHLQDAVPILLGQEFEAYARVIARDIERIANTRNNLYDINMGATAVGTGLNADPEYISIVTEHLAKFSGHPLRSAQHLVDATQNTDCYTEVSSALKVCMINMSKIANDLRLMASGPRAGLSEIVLPARQPGSSIMPGKVNPVMPEVMNQVAFQVFGNDLTITSASEAGQFELNVMEPVLFFNLIQSISIMTNVFKSFTENCLKGIKANEERMKEYVEKSIGIITAINPHVGYETAAKLAREAYLTGESIRELCIKYGVLTEEQLNEILNPYEMTHPGIAGRK',\n",
       " 'Q4CN04': 'MEKVLIGLKRLLTNLYIFLFFIFIFNFKALKLQKQQQQKRMTGLKEKRIACRLTYIWLSGRDSHHDIRSKDRTAYLTTEEVAKHPKELLADGIFPVWNFDGSSTKQVCGADTEILLNPVNAYHCCLPRLSTTVPWILVLAECCLPNGEPTNDNSRAVARRIFERAPEEHPWFGMEQEFFLIKDGHPYGWPPRGFPAPQGPYYCSTGCLCVHGRRYVDLHYEVCLQMGLNISGTNAEVAPGQWEFQVGPCEGIEMGDQLTVARWVLLRILEDDGLDADYRAKPIRGEWNGSGLHTNFSTASTRNENGLSVIYEYVERLKKTISKDIVLYGAENNERLTGKYETSKPNEVTAGVGTRGTSIRIPNAVAAERKGYMEDRRPAGDADPYLVSARLFASCVCIESPELDLISSFHERSWMKFGDLS',\n",
       " 'Q00XA5': 'MASGGWAFGGTRRRARGFGGFGGFGRSLGARASNGDDGVDAALTTVRDDDGASPRDAAMMKEERVGHGGNWGESSGRSGKTPAAFESIDGEVFRPRERLKTNADFDRVKRFGRTFNGSHLRIKAVDNASYDAATCTRLGIVVPKKRVRRAVDRNLIKRRIRHVFRTNKDKWPPRVDIIVFAGDTALEGGFEGLRDDMFAWASDYVVRVEQSKRGAQFKQEKKRRAAKFNNTPEPTPTNP',\n",
       " 'Q5JJB9': 'MKYDVVVIGGSAGGLTAAISAKRFYPDKSVLVIKKEDVSMIPCGIPYIFGTLRSVEDDVLPTERFLKPLGIDVLVDEVTEINPKSKTLLTKSGREIGWEKLVLATGSRPQIPDIPGVELEGVYTVSKDYHYLKELKKRVEDAEKVVIIGGGFIALEVGDEIRKLGKDVTIVVRSRLLRNSFDPEFSEMIENRLKEVGINVVYGHVERLVGRERVEGVKLVEGGEIPADLVILSTGYRPNVELAVKTGLKVTRYGIWTDEYMRTSCPDIFAVGDCVEHRDFFTGKPFPLMLASTATFEARIAGANLFKLQIVRENRRTIGAYSTHVAGLTLAAAGLTEEAAKREGFEVIVGRATGPDRHPAKFEDTSMVTVKLIFSRDRGAILGAQLAGGKSVGEMINVLALAIQKRLTASELYTLQIATHPLLTASPVGYQILQAAEDALAKLRAGA',\n",
       " 'O30245': 'MNIAELYGKMGKHSWRIMDAIFKNLWDYEYVPLQLISSHARIGEEKARNILKYLSDLRVVQNRQKDYEGSTFTFIGLSLYSLHRLVRSGKVDAIGKLMGEGKESAVFNCYSEKFGECVVKFHKVGHTSFKKVKEKRDYGDLHFSVLAIRSARNEFRALQKLQGLAVPKVYAWEGNAVLMELIDAKELYRVRVENPDEVLDMILEEVAKFYHRGIVHGDLSQYNVLVSEEGIWIIDFPQSVEVGEEGWREILERDVRNIITYFSRTYRTEKDINSAIDRILQE',\n",
       " 'Q16134': 'MLVPLAKLSCLAYQCFHALKIKKNYLPLCATRWSSTSTVPRITTHYTIYPRDKDKRWEGVNMERFAEEADVVIVGAGPAGLSAAVRLKQLAVAHEKDIRVCLVEKAAQIGAHTLSGACLDPGAFKELFPDWKEKGAPLNTPVTEDRFGILTEKYRIPVPILPGLPMNNHGNYIVRLGHLVSWMGEQAEALGVEVYPGYAAAEVLFHDDGSVKGIATNDVGIQKDGAPKATFERGLELHAKVTIFAEGCHGHLAKQLYKKFDLRANCEPQTYGIGLKELWVIDEKNWKPGRVDHTVGWPLDRHTYGGSFLYHLNEGEPLVALGLVVGLDYQNPYLSPFREFQRWKHHPSIRPTLEGGKRIAYGARALNEGGFQSIPKLTFPGGLLIGCSPGFMNVPKIKGTHTAMKSGILAAESIFNQLTSENLQSKTIGLHVTEYEDNLKNSWVWKELYSVRNIRPSCHGVLGVYGGMIYTGIFYWILRGMEPWTLKHKGSDFERLKPAKDCTPIEYPKPDGQISFDLLSSVALSGTNHEHDQPAHLTLRDDSIPVNRNLSIYDGPEQRFCPAGVYEFVPVEQGDGFRLQINAQNCVHCKTCDIKDPSQNINWVVPEGGGGPAYNGM',\n",
       " 'Q4E4E1': 'MNIKELSLHELCEELKTPAWNVPLTFVGDVGGTSARMGFVREGKNDSVHACVTRYSMKRKDITELIEFFNEIIELMPASVIKRVKAGVINVPGPVTGGAVGGPFNNLKGIARLSDYPKALFPPGRSAILNDLEAGGFGVLAVSDAHVFSEYFGVMWEGTQWRTCEQEPAGSVIGRGRCLVLAPGTGLGSSLIYYNPMNQQHIVVPLELGSQTIPMRKDIDYIQTLHAELKLLPNYENMVSGAGLEFHYRQVVRGSRPPCSAGEIAKLASEGDANACKAMKKYHEYLMRVGSEASMALLPLTIVLVGDNIVNNAFFYRNPQNLKEMHREALNHEMERFGFQSRVTYLRQKKLLNLNLMGCYRCGLDLSVGKKQKAQL'}"
      ]
     },
     "execution_count": 3,
     "metadata": {},
     "output_type": "execute_result"
    }
   ],
   "source": [
    "from proteus.utils import read_fasta_to_dict\n",
    "\n",
    "sequences_dict = read_fasta_to_dict(\"test/sequences.fasta\")\n",
    "sequences = list(sequences_dict.values())\n",
    "sequences_dict"
   ]
  },
  {
   "cell_type": "markdown",
   "metadata": {},
   "source": [
    "## EpHod"
   ]
  },
  {
   "cell_type": "code",
   "execution_count": null,
   "metadata": {},
   "outputs": [],
   "source": [
    "%%bash\n",
    "\n",
    "docker run --rm \\\n",
    "  -v $(pwd)/example:/app/example \\\n",
    "  -v /home/robaina/Documents/NewAtlantis/tools/EpHod/models:/app/models \\\n",
    "  -v $(pwd)/outputs:/app/output \\\n",
    "  ephod \\\n",
    "  --fasta_path \"test/sequences.fasta\" \\\n",
    "  --save_dir \"test/outputs\" \\\n",
    "  --csv_name \"predictions_ephod.csv\" \\\n",
    "  --verbose 1 \\\n",
    "  --weights_dir \"/app/models\""
   ]
  },
  {
   "cell_type": "markdown",
   "metadata": {},
   "source": [
    "## TemBERTure"
   ]
  },
  {
   "cell_type": "code",
   "execution_count": null,
   "metadata": {},
   "outputs": [],
   "source": [
    "from proteus.fitness_predictors import ThermostabilityPredictor\n",
    "\n",
    "\n",
    "# Initialize the predictor\n",
    "predictor = ThermostabilityPredictor(\n",
    "    weight=1.0,\n",
    "    device=\"cpu\",\n",
    "    docker_image=\"temberture:latest\",\n",
    "    verbose=True\n",
    ")\n",
    "\n",
    "# Make predictions\n",
    "try:\n",
    "    predictions = predictor.infer_fitness(sequences)\n",
    "    \n",
    "    # Print results\n",
    "    print(\"\\nPredicted melting temperatures (average of three replicas):\")\n",
    "    for i, (seq, pred) in enumerate(zip(sequences, predictions), 1):\n",
    "        print(f\"\\nSequence {i} (length: {len(seq)})\")\n",
    "        print(f\"Predicted Tm: {pred.item():.2f}°C\")\n",
    "        \n",
    "except Exception as e:\n",
    "    print(f\"Error during prediction: {e}\")"
   ]
  },
  {
   "cell_type": "markdown",
   "metadata": {},
   "source": [
    "## GeoPoc: pH and temperature"
   ]
  },
  {
   "cell_type": "code",
   "execution_count": null,
   "metadata": {},
   "outputs": [],
   "source": [
    "%%bash\n",
    "\n",
    "docker run --rm --gpus \"all\" \\\n",
    "  -v /home/ec2-user/SageMaker/GeoPoc/tests/:/app/GeoPoc/input \\\n",
    "  -v /home/ec2-user/SageMaker/GeoPoc/tests/outputs:/app/GeoPoc/output \\\n",
    "  -v /home/ec2-user/SageMaker/GeoPoc/tests/features:/app/GeoPoc/features \\\n",
    "  ghcr.io/new-atlantis-labs/geopoc:latest \\\n",
    "  -i /app/GeoPoc/input/test.fasta \\\n",
    "  --feature_path /app/GeoPoc/features/ \\\n",
    "  -o /app/GeoPoc/output/ \\\n",
    "  --task temp \\\n",
    "  --gpu 0 2>&1\n",
    "\n",
    "docker run --rm --gpus \"all\" \\\n",
    "  -v /home/ec2-user/SageMaker/GeoPoc/tests/:/app/GeoPoc/input \\\n",
    "  -v /home/ec2-user/SageMaker/GeoPoc/tests/outputs:/app/GeoPoc/output \\\n",
    "  -v /home/ec2-user/SageMaker/GeoPoc/tests/features:/app/GeoPoc/features \\\n",
    "  ghcr.io/new-atlantis-labs/geopoc:latest \\\n",
    "  -i /app/GeoPoc/input/test.fasta \\\n",
    "  --feature_path /app/GeoPoc/features/ \\\n",
    "  -o /app/GeoPoc/output/ \\\n",
    "  --task pH \\\n",
    "  --gpu 0 2>&1"
   ]
  }
 ],
 "metadata": {
  "kernelspec": {
   "display_name": "proteus-dev",
   "language": "python",
   "name": "python3"
  },
  "language_info": {
   "codemirror_mode": {
    "name": "ipython",
    "version": 3
   },
   "file_extension": ".py",
   "mimetype": "text/x-python",
   "name": "python",
   "nbconvert_exporter": "python",
   "pygments_lexer": "ipython3",
   "version": "3.9.15"
  }
 },
 "nbformat": 4,
 "nbformat_minor": 2
}
